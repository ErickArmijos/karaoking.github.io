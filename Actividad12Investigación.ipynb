{
  "nbformat": 4,
  "nbformat_minor": 0,
  "metadata": {
    "colab": {
      "provenance": [],
      "authorship_tag": "ABX9TyPxaF2YG4FduSXYOWu5fFiw",
      "include_colab_link": true
    },
    "kernelspec": {
      "name": "python3",
      "display_name": "Python 3"
    },
    "language_info": {
      "name": "python"
    }
  },
  "cells": [
    {
      "cell_type": "markdown",
      "metadata": {
        "id": "view-in-github",
        "colab_type": "text"
      },
      "source": [
        "<a href=\"https://colab.research.google.com/github/ErickArmijos/ErickArmijos.github.io/blob/main/Actividad12Investigaci%C3%B3n.ipynb\" target=\"_parent\"><img src=\"https://colab.research.google.com/assets/colab-badge.svg\" alt=\"Open In Colab\"/></a>"
      ]
    },
    {
      "cell_type": "code",
      "execution_count": 4,
      "metadata": {
        "colab": {
          "base_uri": "https://localhost:8080/"
        },
        "id": "l88ZQ2IVEr8e",
        "outputId": "64822bdb-9c86-43bb-f70b-19a09d739a00"
      },
      "outputs": [
        {
          "output_type": "stream",
          "name": "stdout",
          "text": [
            "Name of the Root element: presidentes\n",
            "\n",
            "Nombre del Presidente: Juan José\n",
            "Apellido: Flores\n",
            "Inicio del mandato: 1830\n",
            "Final del mandato: 1834\n",
            "\n",
            "Nombre del Presidente: Vicente\n",
            "Apellido: Rocafuerte\n",
            "Inicio del mandato: 1834\n",
            "Final del mandato: 1839\n",
            "\n",
            "Nombre del Presidente: Vicente Ramón\n",
            "Apellido: Roca\n",
            "Inicio del mandato: 1845\n",
            "Final del mandato: 1849\n",
            "\n",
            "Nombre del Presidente: Eloy\n",
            "Apellido: Alfaro\n",
            "Inicio del mandato: 1895\n",
            "Final del mandato: 1901\n",
            "\n",
            "Nombre del Presidente: Jaime\n",
            "Apellido: Roldós Aguilera\n",
            "Inicio del mandato: 1979\n",
            "Final del mandato: 1981\n"
          ]
        }
      ],
      "source": [
        "import xml.dom.minidom\n",
        "\n",
        "class DomParser:\n",
        "    def __init__(self, file_name):\n",
        "        self.file_name = file_name\n",
        "\n",
        "    def parse(self):\n",
        "        doc = xml.dom.minidom.parse(self.file_name)\n",
        "        doc.normalize()\n",
        "\n",
        "        root_element = doc.documentElement\n",
        "        print(\"Name of the Root element: \" + root_element.nodeName)\n",
        "\n",
        "        presidente_list = doc.getElementsByTagName(\"presidente\")\n",
        "\n",
        "        for presidente in presidente_list:\n",
        "            nombre = presidente.getAttribute(\"nombre\")\n",
        "            print(\"\\nNombre del Presidente: \" + nombre)\n",
        "\n",
        "            apellido = presidente.getElementsByTagName(\"apellido\")[0].firstChild.nodeValue\n",
        "            inicio = presidente.getElementsByTagName(\"inicio\")[0].firstChild.nodeValue\n",
        "            final = presidente.getElementsByTagName(\"final\")[0].firstChild.nodeValue\n",
        "\n",
        "            print(\"Apellido: \" + apellido)\n",
        "            print(\"Inicio del mandato: \" + inicio)\n",
        "            print(\"Final del mandato: \" + final)\n",
        "\n",
        "\n",
        "if __name__ == \"__main__\":\n",
        "    dp = DomParser(\"presidentes.xml\")\n",
        "    try:\n",
        "        dp.parse()\n",
        "    except Exception as e:\n",
        "        print(\"Error:\", str(e))\n"
      ]
    }
  ]
}